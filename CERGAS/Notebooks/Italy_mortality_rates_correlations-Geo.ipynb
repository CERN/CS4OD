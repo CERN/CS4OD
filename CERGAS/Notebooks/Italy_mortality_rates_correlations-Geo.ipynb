{
 "cells": [
  {
   "cell_type": "code",
   "execution_count": 1,
   "metadata": {
    "ExecuteTime": {
     "end_time": "2020-05-19T08:33:43.867704Z",
     "start_time": "2020-05-19T08:33:39.970391Z"
    }
   },
   "outputs": [],
   "source": [
    "# Common external libraries\n",
    "\n",
    "import pandas as pd\n",
    "import numpy as np\n",
    "import sklearn # scikit-learn\n",
    "import requests\n",
    "from bs4 import BeautifulSoup\n",
    "from time import sleep\n"
   ]
  },
  {
   "cell_type": "code",
   "execution_count": 3,
   "metadata": {
    "ExecuteTime": {
     "end_time": "2020-05-19T08:35:00.400116Z",
     "start_time": "2020-05-19T08:34:45.046724Z"
    }
   },
   "outputs": [
    {
     "ename": "OSError",
     "evalue": "[Errno 121] Remote I/O error",
     "output_type": "error",
     "traceback": [
      "\u001b[0;31m---------------------------------------------------------------------------\u001b[0m",
      "\u001b[0;31mOSError\u001b[0m                                   Traceback (most recent call last)",
      "\u001b[0;32m<ipython-input-3-ffc7b018fe49>\u001b[0m in \u001b[0;36m<module>\u001b[0;34m\u001b[0m\n\u001b[1;32m      6\u001b[0m \u001b[0;34m\u001b[0m\u001b[0m\n\u001b[1;32m      7\u001b[0m \u001b[0;31m# import plotly.express as px\u001b[0m\u001b[0;34m\u001b[0m\u001b[0;34m\u001b[0m\u001b[0;34m\u001b[0m\u001b[0m\n\u001b[0;32m----> 8\u001b[0;31m \u001b[0;32mimport\u001b[0m \u001b[0mplotly\u001b[0m\u001b[0;34m.\u001b[0m\u001b[0mgraph_objects\u001b[0m \u001b[0;32mas\u001b[0m \u001b[0mgo\u001b[0m\u001b[0;34m\u001b[0m\u001b[0;34m\u001b[0m\u001b[0m\n\u001b[0m\u001b[1;32m      9\u001b[0m \u001b[0;32mfrom\u001b[0m \u001b[0mplotly\u001b[0m\u001b[0;34m.\u001b[0m\u001b[0msubplots\u001b[0m \u001b[0;32mimport\u001b[0m \u001b[0mmake_subplots\u001b[0m\u001b[0;34m\u001b[0m\u001b[0;34m\u001b[0m\u001b[0m\n\u001b[1;32m     10\u001b[0m \u001b[0mplt\u001b[0m\u001b[0;34m.\u001b[0m\u001b[0mrcParams\u001b[0m\u001b[0;34m[\u001b[0m\u001b[0;34m'figure.figsize'\u001b[0m\u001b[0;34m]\u001b[0m \u001b[0;34m=\u001b[0m \u001b[0;34m[\u001b[0m\u001b[0;36m15\u001b[0m\u001b[0;34m,\u001b[0m \u001b[0;36m5\u001b[0m\u001b[0;34m]\u001b[0m\u001b[0;34m\u001b[0m\u001b[0;34m\u001b[0m\u001b[0m\n",
      "\u001b[0;32m~/.local/lib/python3.6/site-packages/plotly/__init__.py\u001b[0m in \u001b[0;36m<module>\u001b[0;34m\u001b[0m\n\u001b[1;32m     28\u001b[0m \u001b[0;32mfrom\u001b[0m \u001b[0m__future__\u001b[0m \u001b[0;32mimport\u001b[0m \u001b[0mabsolute_import\u001b[0m\u001b[0;34m\u001b[0m\u001b[0;34m\u001b[0m\u001b[0m\n\u001b[1;32m     29\u001b[0m \u001b[0;34m\u001b[0m\u001b[0m\n\u001b[0;32m---> 30\u001b[0;31m from plotly import (\n\u001b[0m\u001b[1;32m     31\u001b[0m     \u001b[0mgraph_objs\u001b[0m\u001b[0;34m,\u001b[0m\u001b[0;34m\u001b[0m\u001b[0;34m\u001b[0m\u001b[0m\n\u001b[1;32m     32\u001b[0m     \u001b[0mtools\u001b[0m\u001b[0;34m,\u001b[0m\u001b[0;34m\u001b[0m\u001b[0;34m\u001b[0m\u001b[0m\n",
      "\u001b[0;32m~/.local/lib/python3.6/site-packages/plotly/graph_objs/__init__.py\u001b[0m in \u001b[0;36m<module>\u001b[0;34m\u001b[0m\n\u001b[1;32m 100103\u001b[0m \u001b[0;32mfrom\u001b[0m \u001b[0mplotly\u001b[0m\u001b[0;34m.\u001b[0m\u001b[0mgraph_objs\u001b[0m \u001b[0;32mimport\u001b[0m \u001b[0mscattercarpet\u001b[0m\u001b[0;34m\u001b[0m\u001b[0;34m\u001b[0m\u001b[0m\n\u001b[1;32m 100104\u001b[0m \u001b[0;32mfrom\u001b[0m \u001b[0mplotly\u001b[0m\u001b[0;34m.\u001b[0m\u001b[0mgraph_objs\u001b[0m \u001b[0;32mimport\u001b[0m \u001b[0mscatter3d\u001b[0m\u001b[0;34m\u001b[0m\u001b[0;34m\u001b[0m\u001b[0m\n\u001b[0;32m>100105\u001b[0;31m \u001b[0;32mfrom\u001b[0m \u001b[0mplotly\u001b[0m\u001b[0;34m.\u001b[0m\u001b[0mgraph_objs\u001b[0m \u001b[0;32mimport\u001b[0m \u001b[0mscatter\u001b[0m\u001b[0;34m\u001b[0m\u001b[0;34m\u001b[0m\u001b[0m\n\u001b[0m\u001b[1;32m 100106\u001b[0m \u001b[0;32mfrom\u001b[0m \u001b[0mplotly\u001b[0m\u001b[0;34m.\u001b[0m\u001b[0mgraph_objs\u001b[0m \u001b[0;32mimport\u001b[0m \u001b[0msankey\u001b[0m\u001b[0;34m\u001b[0m\u001b[0;34m\u001b[0m\u001b[0m\n\u001b[1;32m 100107\u001b[0m \u001b[0;32mfrom\u001b[0m \u001b[0mplotly\u001b[0m\u001b[0;34m.\u001b[0m\u001b[0mgraph_objs\u001b[0m \u001b[0;32mimport\u001b[0m \u001b[0mpointcloud\u001b[0m\u001b[0;34m\u001b[0m\u001b[0;34m\u001b[0m\u001b[0m\n",
      "\u001b[0;32m~/.local/lib/python3.6/site-packages/plotly/graph_objs/scatter/__init__.py\u001b[0m in \u001b[0;36m<module>\u001b[0;34m\u001b[0m\n\u001b[1;32m   4141\u001b[0m \u001b[0;32mfrom\u001b[0m \u001b[0mplotly\u001b[0m\u001b[0;34m.\u001b[0m\u001b[0mgraph_objs\u001b[0m\u001b[0;34m.\u001b[0m\u001b[0mscatter\u001b[0m \u001b[0;32mimport\u001b[0m \u001b[0munselected\u001b[0m\u001b[0;34m\u001b[0m\u001b[0;34m\u001b[0m\u001b[0m\n\u001b[1;32m   4142\u001b[0m \u001b[0;32mfrom\u001b[0m \u001b[0mplotly\u001b[0m\u001b[0;34m.\u001b[0m\u001b[0mgraph_objs\u001b[0m\u001b[0;34m.\u001b[0m\u001b[0mscatter\u001b[0m \u001b[0;32mimport\u001b[0m \u001b[0mselected\u001b[0m\u001b[0;34m\u001b[0m\u001b[0;34m\u001b[0m\u001b[0m\n\u001b[0;32m-> 4143\u001b[0;31m \u001b[0;32mfrom\u001b[0m \u001b[0mplotly\u001b[0m\u001b[0;34m.\u001b[0m\u001b[0mgraph_objs\u001b[0m\u001b[0;34m.\u001b[0m\u001b[0mscatter\u001b[0m \u001b[0;32mimport\u001b[0m \u001b[0mmarker\u001b[0m\u001b[0;34m\u001b[0m\u001b[0;34m\u001b[0m\u001b[0m\n\u001b[0m\u001b[1;32m   4144\u001b[0m \u001b[0;32mfrom\u001b[0m \u001b[0mplotly\u001b[0m\u001b[0;34m.\u001b[0m\u001b[0mgraph_objs\u001b[0m\u001b[0;34m.\u001b[0m\u001b[0mscatter\u001b[0m \u001b[0;32mimport\u001b[0m \u001b[0mhoverlabel\u001b[0m\u001b[0;34m\u001b[0m\u001b[0;34m\u001b[0m\u001b[0m\n",
      "\u001b[0;32m~/.local/lib/python3.6/site-packages/plotly/graph_objs/scatter/marker/__init__.py\u001b[0m in \u001b[0;36m<module>\u001b[0;34m\u001b[0m\n\u001b[1;32m   2728\u001b[0m \u001b[0m__all__\u001b[0m \u001b[0;34m=\u001b[0m \u001b[0;34m[\u001b[0m\u001b[0;34m\"ColorBar\"\u001b[0m\u001b[0;34m,\u001b[0m \u001b[0;34m\"Gradient\"\u001b[0m\u001b[0;34m,\u001b[0m \u001b[0;34m\"Line\"\u001b[0m\u001b[0;34m,\u001b[0m \u001b[0;34m\"colorbar\"\u001b[0m\u001b[0;34m]\u001b[0m\u001b[0;34m\u001b[0m\u001b[0;34m\u001b[0m\u001b[0m\n\u001b[1;32m   2729\u001b[0m \u001b[0;34m\u001b[0m\u001b[0m\n\u001b[0;32m-> 2730\u001b[0;31m \u001b[0;32mfrom\u001b[0m \u001b[0mplotly\u001b[0m\u001b[0;34m.\u001b[0m\u001b[0mgraph_objs\u001b[0m\u001b[0;34m.\u001b[0m\u001b[0mscatter\u001b[0m\u001b[0;34m.\u001b[0m\u001b[0mmarker\u001b[0m \u001b[0;32mimport\u001b[0m \u001b[0mcolorbar\u001b[0m\u001b[0;34m\u001b[0m\u001b[0;34m\u001b[0m\u001b[0m\n\u001b[0m",
      "\u001b[0;32m~/.local/lib/python3.6/site-packages/plotly/graph_objs/scatter/marker/colorbar/__init__.py\u001b[0m in \u001b[0;36m<module>\u001b[0;34m\u001b[0m\n\u001b[1;32m    721\u001b[0m \u001b[0m__all__\u001b[0m \u001b[0;34m=\u001b[0m \u001b[0;34m[\u001b[0m\u001b[0;34m\"Tickfont\"\u001b[0m\u001b[0;34m,\u001b[0m \u001b[0;34m\"Tickformatstop\"\u001b[0m\u001b[0;34m,\u001b[0m \u001b[0;34m\"Tickformatstop\"\u001b[0m\u001b[0;34m,\u001b[0m \u001b[0;34m\"Title\"\u001b[0m\u001b[0;34m,\u001b[0m \u001b[0;34m\"title\"\u001b[0m\u001b[0;34m]\u001b[0m\u001b[0;34m\u001b[0m\u001b[0;34m\u001b[0m\u001b[0m\n\u001b[1;32m    722\u001b[0m \u001b[0;34m\u001b[0m\u001b[0m\n\u001b[0;32m--> 723\u001b[0;31m \u001b[0;32mfrom\u001b[0m \u001b[0mplotly\u001b[0m\u001b[0;34m.\u001b[0m\u001b[0mgraph_objs\u001b[0m\u001b[0;34m.\u001b[0m\u001b[0mscatter\u001b[0m\u001b[0;34m.\u001b[0m\u001b[0mmarker\u001b[0m\u001b[0;34m.\u001b[0m\u001b[0mcolorbar\u001b[0m \u001b[0;32mimport\u001b[0m \u001b[0mtitle\u001b[0m\u001b[0;34m\u001b[0m\u001b[0;34m\u001b[0m\u001b[0m\n\u001b[0m",
      "\u001b[0;32m/cvmfs/sft.cern.ch/lcg/releases/LCG_97python3/Python/3.7.6/x86_64-centos7-gcc8-opt/lib/python3.7/importlib/_bootstrap.py\u001b[0m in \u001b[0;36m_find_and_load\u001b[0;34m(name, import_)\u001b[0m\n",
      "\u001b[0;32m/cvmfs/sft.cern.ch/lcg/releases/LCG_97python3/Python/3.7.6/x86_64-centos7-gcc8-opt/lib/python3.7/importlib/_bootstrap.py\u001b[0m in \u001b[0;36m_find_and_load_unlocked\u001b[0;34m(name, import_)\u001b[0m\n",
      "\u001b[0;32m/cvmfs/sft.cern.ch/lcg/releases/LCG_97python3/Python/3.7.6/x86_64-centos7-gcc8-opt/lib/python3.7/importlib/_bootstrap.py\u001b[0m in \u001b[0;36m_load_unlocked\u001b[0;34m(spec)\u001b[0m\n",
      "\u001b[0;32m/cvmfs/sft.cern.ch/lcg/releases/LCG_97python3/Python/3.7.6/x86_64-centos7-gcc8-opt/lib/python3.7/importlib/_bootstrap_external.py\u001b[0m in \u001b[0;36mexec_module\u001b[0;34m(self, module)\u001b[0m\n",
      "\u001b[0;32m/cvmfs/sft.cern.ch/lcg/releases/LCG_97python3/Python/3.7.6/x86_64-centos7-gcc8-opt/lib/python3.7/importlib/_bootstrap_external.py\u001b[0m in \u001b[0;36mget_code\u001b[0;34m(self, fullname)\u001b[0m\n",
      "\u001b[0;32m/cvmfs/sft.cern.ch/lcg/releases/LCG_97python3/Python/3.7.6/x86_64-centos7-gcc8-opt/lib/python3.7/importlib/_bootstrap_external.py\u001b[0m in \u001b[0;36mget_data\u001b[0;34m(self, path)\u001b[0m\n",
      "\u001b[0;31mOSError\u001b[0m: [Errno 121] Remote I/O error"
     ]
    }
   ],
   "source": [
    "# Visualization libraries\n",
    "\n",
    "%matplotlib inline\n",
    "import matplotlib.pyplot as plt\n",
    "import seaborn as sns\n",
    "\n",
    "import plotly.express as px\n",
    "import plotly.graph_objects as go\n",
    "from plotly.subplots import make_subplots\n",
    "plt.rcParams['figure.figsize'] = [15, 5]\n",
    "from IPython import display\n",
    "from ipywidgets import interact, widgets"
   ]
  },
  {
   "cell_type": "code",
   "execution_count": null,
   "metadata": {
    "ExecuteTime": {
     "end_time": "2020-05-19T08:34:07.085863Z",
     "start_time": "2020-05-19T08:33:37.644Z"
    }
   },
   "outputs": [],
   "source": [
    "# Common standard libraries\n",
    "\n",
    "import datetime\n",
    "import time\n",
    "import os"
   ]
  },
  {
   "cell_type": "code",
   "execution_count": null,
   "metadata": {
    "ExecuteTime": {
     "end_time": "2020-05-19T08:34:07.088839Z",
     "start_time": "2020-05-19T08:33:37.646Z"
    }
   },
   "outputs": [],
   "source": [
    "# Setting plot appearance\n",
    "# See here for more options: https://matplotlib.org/users/customizing.html\n",
    "\n",
    "%config InlineBackend.figure_format='retina'\n",
    "sns.set() # Revert to matplotlib defaults\n",
    "plt.rcParams['figure.figsize'] = (9, 6)\n",
    "plt.rcParams['axes.labelpad'] = 10\n",
    "sns.set_style(\"darkgrid\")\n",
    "# sns.set_context(\"poster\", font_scale=1.0)"
   ]
  },
  {
   "cell_type": "code",
   "execution_count": null,
   "metadata": {
    "ExecuteTime": {
     "end_time": "2020-05-19T08:34:07.091547Z",
     "start_time": "2020-05-19T08:33:37.648Z"
    }
   },
   "outputs": [],
   "source": [
    "# Managing maps\n",
    "import folium\n",
    "from folium import plugins\n",
    "from folium.plugins import MarkerCluster"
   ]
  },
  {
   "cell_type": "code",
   "execution_count": null,
   "metadata": {
    "ExecuteTime": {
     "end_time": "2020-05-19T08:34:07.094265Z",
     "start_time": "2020-05-19T08:33:37.649Z"
    }
   },
   "outputs": [],
   "source": [
    "# Ignore warnings (don't display stderr)\n",
    "\n",
    "import warnings\n",
    "warnings.filterwarnings('ignore')"
   ]
  },
  {
   "cell_type": "code",
   "execution_count": null,
   "metadata": {
    "ExecuteTime": {
     "end_time": "2020-05-19T08:34:07.096995Z",
     "start_time": "2020-05-19T08:33:37.651Z"
    }
   },
   "outputs": [],
   "source": [
    "# if local use, then check presence of local data file (default = 0)\n",
    "\n",
    "LOCAL = 1 # check for local data file and use it if it exists\n",
    "#LOCAL = 0 # don't check for local data file, but download from Zenodo\n"
   ]
  },
  {
   "cell_type": "markdown",
   "metadata": {},
   "source": [
    "# Glass Submarine Project\n",
    "## Mortality Rate Analysis in Italy (2015-2020)\n",
    "## Time and Geographical plots generator\n",
    "\n",
    "This notebook uses the mortality rates data file from a subset of municipalities in the ANPR system</br>\n",
    "and the municipality census information to produce a set of customizable time plots\n",
    "\n",
    "Version: 1.0-20200504"
   ]
  },
  {
   "cell_type": "markdown",
   "metadata": {},
   "source": [
    "## Step 1: Load the data from Zenodo"
   ]
  },
  {
   "cell_type": "code",
   "execution_count": null,
   "metadata": {
    "ExecuteTime": {
     "end_time": "2020-05-19T08:34:07.099872Z",
     "start_time": "2020-05-19T08:33:37.653Z"
    },
    "scrolled": false
   },
   "outputs": [],
   "source": [
    "# if local is specified, then try to use a local file if it exists, else call the generator to produce a fresh dataset\n",
    "import os.path\n",
    "\n",
    "if LOCAL:\n",
    "    if not os.path.isfile('mortalita_giornaliero_comune_20200515.xlsx'):\n",
    "        %run ./Italy_mortality_rates_dataset_generator_20200515.ipynb\n",
    "else:\n",
    "    %run ./Italy_mortality_rates_dataset_generator_20200515.ipynb\n",
    "    \n",
    "print('Loading aggregated data file...')\n",
    "df_2020 = pd.read_excel(io='mortalita_giornaliero_comune_20200515.xlsx')\n",
    "df_2020 = df_2020.drop(labels='Unnamed: 0', axis=1)\n",
    "print('Loaded %d records' %len(df_2020))\n",
    "    \n",
    "df_2020.head()"
   ]
  },
  {
   "cell_type": "markdown",
   "metadata": {},
   "source": [
    "## Step 2: Reduced data set (debugging)"
   ]
  },
  {
   "cell_type": "code",
   "execution_count": null,
   "metadata": {
    "ExecuteTime": {
     "end_time": "2020-05-19T08:34:07.102295Z",
     "start_time": "2020-05-19T08:33:37.655Z"
    }
   },
   "outputs": [],
   "source": [
    "cols = ['NOME_REGIONE','NOME_PROVINCIA','NOME_COMUNE','CL_ETA','GE','T_15','T_16','T_17','T_18','T_19','T_20','POPULATION','LONGITUDE','LATITUDE']\n",
    "comuni = df_2020.loc[:,cols]\n",
    "comuni.head()\n"
   ]
  },
  {
   "cell_type": "markdown",
   "metadata": {},
   "source": [
    "## Step 3: Consolidate at regional level (debugging)\n",
    "Time plot"
   ]
  },
  {
   "cell_type": "code",
   "execution_count": null,
   "metadata": {
    "ExecuteTime": {
     "end_time": "2020-05-19T08:34:07.104874Z",
     "start_time": "2020-05-19T08:33:37.657Z"
    }
   },
   "outputs": [],
   "source": [
    "### Get Regionwise Data\n",
    "def countrydata(df_cleaned,varia):\n",
    "    df_country=df_cleaned.groupby(['NOME_REGIONE','GE'])[varia].sum().reset_index()\n",
    "    df_country=df_country.set_index(['NOME_REGIONE','GE'])\n",
    "    df_country.index=df_country.index.set_levels([df_country.index.levels[0], df_country.index.levels[1]])\n",
    "    df_country=df_country.sort_values(['NOME_REGIONE','GE'],ascending=True)\n",
    "#     df_country=df_country.rename(columns={oldname:newname})\n",
    "    return df_country\n",
    "  \n",
    "dfbyregion15=countrydata(comuni,'T_15')\n",
    "dfbyregion16=countrydata(comuni,'T_16')\n",
    "dfbyregion17=countrydata(comuni,'T_17')\n",
    "dfbyregion18=countrydata(comuni,'T_18')\n",
    "dfbyregion19=countrydata(comuni,'T_19')\n",
    "dfbyregion20=countrydata(comuni,'T_20')\n",
    "\n",
    "temp1=pd.merge(dfbyregion15,dfbyregion16,how='left',left_index=True,right_index=True)\n",
    "temp2=pd.merge(temp1,dfbyregion17,how='left',left_index=True,right_index=True)\n",
    "temp3=pd.merge(temp2,dfbyregion18,how='left',left_index=True,right_index=True)\n",
    "temp4=pd.merge(temp3,dfbyregion19,how='left',left_index=True,right_index=True)\n",
    "RegionConsolidated=pd.merge(temp4,dfbyregion20,how='left',left_index=True,right_index=True)\n",
    "\n",
    "#RegionConsolidated.head()\n",
    "GlobalTotals=RegionConsolidated.reset_index().groupby('GE').sum()\n",
    "\n",
    "fig = go.Figure()\n",
    "\n",
    "fig.add_trace(go.Scatter(x=GlobalTotals.index,y=GlobalTotals[ 'T_15'],\n",
    "                         mode='markers',\n",
    "                         name='Deaths 2015',\n",
    "                         line=dict(color='royalblue',width=2)))\n",
    "fig.add_trace(go.Scatter(x=GlobalTotals.index,y=GlobalTotals[ 'T_16'],\n",
    "                         mode='markers',\n",
    "                         name='Deaths 2016',\n",
    "                         line=dict(color='yellow',width=2)))\n",
    "fig.add_trace(go.Scatter(x=GlobalTotals.index,y=GlobalTotals[ 'T_17'],\n",
    "                         mode='markers',\n",
    "                         name='Deaths 2017',\n",
    "                         line=dict(color='black',width=2)))\n",
    "fig.add_trace(go.Scatter(x=GlobalTotals.index,y=GlobalTotals[ 'T_18'],\n",
    "                         mode='markers',\n",
    "                         name='Deaths 2018',\n",
    "                         line=dict(color='green',width=2)))\n",
    "fig.add_trace(go.Scatter(x=GlobalTotals.index,y=GlobalTotals[ 'T_19'],\n",
    "                         mode='markers',\n",
    "                         name='Deaths 2019',\n",
    "                         line=dict(color='magenta',width=2)))\n",
    "fig.add_trace(go.Scatter(x=GlobalTotals.index,y=GlobalTotals['T_20'],\n",
    "                         mode='markers',\n",
    "                         name='Deaths 2020',\n",
    "                         line=dict(color='red',width=2)))\n",
    "fig.update_layout(showlegend=True)\n",
    "fig.update_layout(yaxis_type=\"log\")"
   ]
  },
  {
   "cell_type": "markdown",
   "metadata": {},
   "source": [
    "## Step 4: Top 10 Regions comparison 2019-2020"
   ]
  },
  {
   "cell_type": "code",
   "execution_count": null,
   "metadata": {
    "ExecuteTime": {
     "end_time": "2020-05-19T08:34:07.107468Z",
     "start_time": "2020-05-19T08:33:37.659Z"
    }
   },
   "outputs": [],
   "source": [
    "TotalCasesCountry=RegionConsolidated.sum(level=0)['T_19'].reset_index().set_index('NOME_REGIONE')\n",
    "TotalCasesCountry=TotalCasesCountry.sort_values(by='T_19',ascending=False)\n",
    "TotalCasesCountry=TotalCasesCountry[~TotalCasesCountry.index.isin(['ALL','Others'])]\n",
    "Top10countriesbycases=TotalCasesCountry.head(10)\n",
    "TotalCasesCountrytop10=TotalCasesCountry.head(10)\n",
    "\n",
    "TotalCasesCountry20=RegionConsolidated.sum(level=0)['T_20'].reset_index().set_index('NOME_REGIONE')\n",
    "TotalCasesCountry20=TotalCasesCountry20.sort_values(by='T_20',ascending=False)\n",
    "TotalCasesCountry20=TotalCasesCountry20[~TotalCasesCountry20.index.isin(['ALL','Others'])]\n",
    "Top10countriesbycases20=TotalCasesCountry20.head(10)\n",
    "TotalCasesCountrytop1020=TotalCasesCountry20.head(10)\n",
    "\n",
    "fig = go.Figure()\n",
    "    \n",
    "\n",
    "fig.add_trace(go.Bar(x=Top10countriesbycases20.index, y=Top10countriesbycases20['T_20'],\n",
    "                      text=Top10countriesbycases20['T_20'],\n",
    "                        textposition='outside',\n",
    "                    name='2020'))\n",
    "\n",
    "fig.add_trace(go.Bar(x=Top10countriesbycases.index, y=Top10countriesbycases['T_19'],\n",
    "                      text=Top10countriesbycases['T_19'],\n",
    "                        textposition='outside',\n",
    "                    name='2019'))\n",
    "\n",
    "\n",
    "\n",
    "fig.update_layout(title_text='Top 10 Regions by Deaths in 2019 and in 2020')\n",
    "fig.update_yaxes(showticklabels=False)\n",
    "\n",
    "fig.show()"
   ]
  },
  {
   "cell_type": "markdown",
   "metadata": {},
   "source": [
    "## Step 5: Top 10 Provinces comparison 2019-2020"
   ]
  },
  {
   "cell_type": "code",
   "execution_count": null,
   "metadata": {
    "ExecuteTime": {
     "end_time": "2020-05-19T08:34:07.109968Z",
     "start_time": "2020-05-19T08:33:37.660Z"
    }
   },
   "outputs": [],
   "source": [
    "### Get Provincewise Data\n",
    "def provinciadata(df_cleaned,varia):\n",
    "    df_country=df_cleaned.groupby(['NOME_REGIONE','NOME_PROVINCIA','GE'])[varia].sum().reset_index()\n",
    "    df_country=df_country.set_index(['NOME_REGIONE','NOME_PROVINCIA','GE'])\n",
    "    df_country.index=df_country.index.set_levels([df_country.index.levels[0], df_country.index.levels[1],df_country.index.levels[2]])\n",
    "    df_country=df_country.sort_values(['NOME_REGIONE','NOME_PROVINCIA','GE'],ascending=True)\n",
    "#     df_country=df_country.rename(columns={oldname:newname})\n",
    "    return df_country\n",
    "\n",
    "  \n",
    "dfbyprovincia15=provinciadata(comuni,'T_15')\n",
    "dfbyprovincia16=provinciadata(comuni,'T_16')\n",
    "dfbyprovincia17=provinciadata(comuni,'T_17')\n",
    "dfbyprovincia18=provinciadata(comuni,'T_18')\n",
    "dfbyprovincia19=provinciadata(comuni,'T_19')\n",
    "dfbyprovincia20=provinciadata(comuni,'T_20')\n",
    "\n",
    "temp1=pd.merge(dfbyprovincia15,dfbyprovincia16,how='left',left_index=True,right_index=True)\n",
    "temp2=pd.merge(temp1,dfbyprovincia17,how='left',left_index=True,right_index=True)\n",
    "temp3=pd.merge(temp2,dfbyprovincia18,how='left',left_index=True,right_index=True)\n",
    "temp4=pd.merge(temp3,dfbyprovincia19,how='left',left_index=True,right_index=True)\n",
    "ProvinciaConsolidated=pd.merge(temp4,dfbyprovincia20,how='left',left_index=True,right_index=True)\n",
    "TotalCasesProvince=ProvinciaConsolidated.sum(level=1)['T_19'].reset_index().set_index('NOME_PROVINCIA')\n",
    "TotalCasesProvince=TotalCasesProvince.sort_values(by='T_19',ascending=False)\n",
    "TotalCasesProvince=TotalCasesProvince[~TotalCasesProvince.index.isin(['ALL','Others'])]\n",
    "Top10Provincebycases=TotalCasesProvince.head(10)\n",
    "TotalCasesProvincetop10=TotalCasesProvince.head(10)\n",
    "\n",
    "TotalCasesProvince20=ProvinciaConsolidated.sum(level=1)['T_20'].reset_index().set_index('NOME_PROVINCIA')\n",
    "TotalCasesProvince20=TotalCasesProvince20.sort_values(by='T_20',ascending=False)\n",
    "TotalCasesProvince20=TotalCasesProvince20[~TotalCasesProvince20.index.isin(['ALL','Others'])]\n",
    "Top10Provincebycases20=TotalCasesProvince20.head(10)\n",
    "TotalCasesProvincetop1020=TotalCasesProvince20.head(10)\n",
    "\n",
    "fig = go.Figure()\n",
    "\n",
    "\n",
    "fig.add_trace(go.Bar(x=Top10Provincebycases20.index, y=Top10Provincebycases20['T_20'],\n",
    "                      text=Top10Provincebycases20['T_20'],\n",
    "                        textposition='outside',\n",
    "                    name='2020'))\n",
    "\n",
    "\n",
    "\n",
    "fig.add_trace(go.Bar(x=Top10Provincebycases.index, y=Top10Provincebycases['T_19'],\n",
    "                      text=Top10Provincebycases['T_19'],\n",
    "                        textposition='outside',\n",
    "                    name='2019'))\n",
    "\n",
    "\n",
    "\n",
    "\n",
    "fig.update_layout(title_text='Top 10 Provinces by Deaths in 2019 and in 2020')\n",
    "fig.update_yaxes(showticklabels=False)\n",
    "\n",
    "fig.show()"
   ]
  },
  {
   "cell_type": "markdown",
   "metadata": {},
   "source": [
    "## Step 6: Local data for geographical representation"
   ]
  },
  {
   "cell_type": "code",
   "execution_count": null,
   "metadata": {
    "ExecuteTime": {
     "end_time": "2020-05-19T08:34:07.112264Z",
     "start_time": "2020-05-19T08:33:37.662Z"
    }
   },
   "outputs": [],
   "source": [
    "### Get Regionwise Data\n",
    "def comunedata(df_cleaned,varia):\n",
    "    df_country=df_cleaned.groupby(['NOME_REGIONE','NOME_PROVINCIA','NOME_COMUNE','LONGITUDE','LATITUDE','POPULATION','GE'])[varia].sum().reset_index()\n",
    "    df_country=df_country.set_index(['NOME_REGIONE','NOME_PROVINCIA','NOME_COMUNE','LONGITUDE','LATITUDE','POPULATION','GE'])\n",
    "    df_country.index=df_country.index.set_levels([df_country.index.levels[0], df_country.index.levels[1],df_country.index.levels[2],df_country.index.levels[3],df_country.index.levels[4],df_country.index.levels[5],df_country.index.levels[6]])\n",
    "    df_country=df_country.sort_values(['NOME_REGIONE','NOME_PROVINCIA','NOME_COMUNE','LONGITUDE','LATITUDE','POPULATION','GE'],ascending=True)\n",
    "#     df_country=df_country.rename(columns={oldname:newname})\n",
    "    return df_country\n",
    "\n",
    "  \n",
    "dfbycomune15=comunedata(comuni,'T_15')\n",
    "dfbycomune16=comunedata(comuni,'T_16')\n",
    "dfbycomune17=comunedata(comuni,'T_17')\n",
    "dfbycomune18=comunedata(comuni,'T_18')\n",
    "dfbycomune19=comunedata(comuni,'T_19')\n",
    "dfbycomune20=comunedata(comuni,'T_20')\n",
    "\n",
    "temp1=pd.merge(dfbycomune15,dfbycomune16,how='left',left_index=True,right_index=True)\n",
    "temp2=pd.merge(temp1,dfbycomune17,how='left',left_index=True,right_index=True)\n",
    "temp3=pd.merge(temp2,dfbycomune18,how='left',left_index=True,right_index=True)\n",
    "temp4=pd.merge(temp3,dfbycomune19,how='left',left_index=True,right_index=True)\n",
    "ComuniConsolidated=pd.merge(temp4,dfbycomune20,how='left',left_index=True,right_index=True)\n",
    "\n",
    "\n",
    "\n",
    "\n",
    "# df_new = comuni.groupby(['NOME_REGIONE','NOME_PROVINCIA','NOME_COMUNE','LONGITUDE','LATITUDE','POPULATION']).agg({'T_15':sum})\n",
    "\n",
    "df_new = comuni.groupby(['NOME_REGIONE','NOME_PROVINCIA','NOME_COMUNE','LONGITUDE','LATITUDE','POPULATION']).agg({'T_15':sum,'T_16':sum,'T_17':sum,'T_18':sum,'T_19':sum,'T_20':sum})\n",
    "\n",
    "\n",
    "# ComuniConsolidated.head()\n",
    "df_new.head()"
   ]
  },
  {
   "cell_type": "markdown",
   "metadata": {},
   "source": [
    "## Step 7: Prepare to plot maps"
   ]
  },
  {
   "cell_type": "code",
   "execution_count": null,
   "metadata": {
    "ExecuteTime": {
     "end_time": "2020-05-19T08:34:07.114612Z",
     "start_time": "2020-05-19T08:33:37.663Z"
    }
   },
   "outputs": [],
   "source": [
    "df_geo = df_new.reset_index()\n",
    "# df_geo.head()\n",
    "\n",
    "df_clean = df_geo[(df_geo.LONGITUDE > 0) &  (df_geo.LATITUDE > 0)]\n",
    "\n",
    "long19 = list(df_clean.iloc[:,3])\n",
    "lat19 = list(df_clean.iloc[:,4])\n",
    "\n",
    "\n",
    "plt.plot(long19,lat19, 'o')\n",
    "plt.title('Italian places')\n",
    "plt.xlabel('Longitude')\n",
    "plt.ylabel('Latitude')\n",
    "plt.axis('equal')\n",
    "plt.show()\n"
   ]
  },
  {
   "cell_type": "markdown",
   "metadata": {
    "ExecuteTime": {
     "end_time": "2020-05-17T05:41:59.573281Z",
     "start_time": "2020-05-17T05:41:59.561490Z"
    }
   },
   "source": [
    "## Step 8: First map"
   ]
  },
  {
   "cell_type": "code",
   "execution_count": null,
   "metadata": {
    "ExecuteTime": {
     "end_time": "2020-05-19T08:34:07.117089Z",
     "start_time": "2020-05-19T08:33:37.665Z"
    },
    "scrolled": false
   },
   "outputs": [],
   "source": [
    "# BBox = ((df_clean.LONGITUDE.min(),   df_clean.LONGITUDE.max(),      \n",
    "#         df_clean.LATITUDE.min(), df_clean.LATITUDE.max()))\n",
    "# print(BBox)\n",
    "\n",
    "\n",
    "my_map1 = folium.Map(location = [42,12], \n",
    "                                        zoom_start = 6 ) \n",
    "coordinates =[]\n",
    "#\n",
    "for la,lo in zip(df_clean.LATITUDE,df_clean.LONGITUDE):\n",
    "    coordinates.append([la,lo])\n",
    "\n",
    "locations = list(zip(df_clean.LATITUDE,df_clean.LONGITUDE))\n",
    "icons = [folium.Icon(icon=\"car\", prefix=\"fa\") for _ in range(len(locations))]\n",
    "\n",
    "\n",
    "\n",
    "for index, row in df_clean.iterrows():\n",
    "    perc_deaths = 100*(row[\"T_20\"]/row[\"POPULATION\"])\n",
    "    if row[\"T_20\"]>0:\n",
    "        increase = 100*((row[\"T_20\"]-row[\"T_19\"])/row[\"T_20\"])\n",
    "        if increase>0 :\n",
    "            radio = row[\"T_20\"]/1000.\n",
    "        else:\n",
    "            radio = 0\n",
    "    else:\n",
    "        increase = 0.00\n",
    "        radio = 0\n",
    "    # generate the popup message that is shown on click.\n",
    "    popup_text = \"{}<br> Population: {}<br> Total Deaths 2020: {} \\({} \\%\\) <br> Increase 2019-20 : {} \\%\"\n",
    "    popup_text = popup_text.format(row[\"NOME_COMUNE\"],\n",
    "                        row[\"POPULATION\"],\n",
    "                        row[\"T_20\"],\n",
    "                        format(round(perc_deaths,2)),\n",
    "                        format(round(increase,2)))           \n",
    "                        \n",
    "        \n",
    "    # radius of circles\n",
    "    #radio = row[\"T_20\"]\n",
    "        \n",
    "    # choose the color of the marker\n",
    "    if perc_deaths>1.:\n",
    "        # color=\"#FFCE00\" # orange\n",
    "        # color=\"#007849\" # green\n",
    "        color=\"#E37222\" # tangerine\n",
    "    else:\n",
    "        # color=\"#0375B4\" # blue\n",
    "        # color=\"#FFCE00\" # yellow            \n",
    "        color=\"#0A8A9F\" # teal\n",
    "        \n",
    "    # add marker to the map\n",
    "    folium.CircleMarker(location=(row[\"LATITUDE\"],\n",
    "                            row[\"LONGITUDE\"]),\n",
    "                            radius=radio,\n",
    "                            color=color,\n",
    "                            popup=popup_text,\n",
    "                            fill=True).add_to(my_map1)\n",
    "    \n",
    "\n",
    "my_map1"
   ]
  },
  {
   "cell_type": "markdown",
   "metadata": {},
   "source": [
    "## Step 9: Second map with groups"
   ]
  },
  {
   "cell_type": "code",
   "execution_count": null,
   "metadata": {
    "ExecuteTime": {
     "end_time": "2020-05-19T08:34:07.119788Z",
     "start_time": "2020-05-19T08:33:37.667Z"
    }
   },
   "outputs": [],
   "source": [
    "\n",
    "\n",
    "m = folium.Map(location = [42,12], \n",
    "                                        zoom_start = 6 ) \n",
    "coordinates =[]\n",
    "#\n",
    "for la,lo in zip(df_clean.LATITUDE,df_clean.LONGITUDE):\n",
    "    coordinates.append([la,lo])\n",
    "\n",
    "locations = list(zip(df_clean.LATITUDE,df_clean.LONGITUDE))\n",
    "icons = [folium.Icon(icon=\"car\", prefix=\"fa\") for _ in range(len(locations))]\n",
    "\n",
    "\n",
    "\n",
    "fg = folium.FeatureGroup(name='groups')\n",
    "m.add_child(fg)\n",
    "\n",
    "g1 = plugins.FeatureGroupSubGroup(fg, '2019')\n",
    "m.add_child(g1)\n",
    "\n",
    "g2 = plugins.FeatureGroupSubGroup(fg, '2020')\n",
    "m.add_child(g2)\n",
    "\n",
    "\n",
    "\n",
    "\n",
    "\n",
    "\n",
    "\n",
    "\n",
    "for index, row in df_clean.iterrows():\n",
    "    perc_deaths = 100*(row[\"T_20\"]/row[\"POPULATION\"])\n",
    "    if row[\"T_20\"]>0:\n",
    "        increase = 100*((row[\"T_20\"]-row[\"T_19\"])/row[\"T_20\"])\n",
    "        if increase>0 :\n",
    "            radio = row[\"T_20\"]/1000.\n",
    "        else:\n",
    "            radio = 0\n",
    "    else:\n",
    "        increase = 0.00\n",
    "        radio = 0\n",
    "    radio2 = row[\"T_19\"]/1000\n",
    "    # generate the popup message that is shown on click.\n",
    "    popup_text = \"{}<br> Population: {}<br> Total Deaths 2020: {} \\({} \\%\\) <br> Increase 2019-20 : {} \\%\"\n",
    "    popup_text = popup_text.format(row[\"NOME_COMUNE\"],\n",
    "                        row[\"POPULATION\"],\n",
    "                        row[\"T_20\"],\n",
    "                        format(round(perc_deaths,2)),\n",
    "                        format(round(increase,2)))           \n",
    "                        \n",
    "    popup_text2 = \"{}<br> Population: {}<br> Total Deaths 2019: {} \\({} \\%\\) <br> Increase 2019-20 : {} \\%\"\n",
    "    popup_text2 = popup_text2.format(row[\"NOME_COMUNE\"],\n",
    "                        row[\"POPULATION\"],\n",
    "                        row[\"T_19\"],\n",
    "                        format(round(perc_deaths,2)),\n",
    "                        format(round(increase,2)))            \n",
    "    # radius of circles\n",
    "    #radio = row[\"T_20\"]\n",
    "        \n",
    "    # choose the color of the marker\n",
    "    if perc_deaths>1.:\n",
    "        # color=\"#FFCE00\" # orange\n",
    "        # color=\"#007849\" # green\n",
    "        color=\"#E37222\" # tangerine\n",
    "    else:\n",
    "        # color=\"#0375B4\" # blue\n",
    "        # color=\"#FFCE00\" # yellow            \n",
    "        color=\"#0A8A9F\" # teal\n",
    "        \n",
    "    # add marker to the map\n",
    "    folium.CircleMarker(location=(row[\"LATITUDE\"],\n",
    "                            row[\"LONGITUDE\"]),\n",
    "                            radius=radio,\n",
    "                            color=color,\n",
    "                            popup=popup_text,\n",
    "                            fill=True).add_to(g2)\n",
    "    \n",
    "    folium.CircleMarker(location=(row[\"LATITUDE\"],\n",
    "                            row[\"LONGITUDE\"]),\n",
    "                            radius=radio2,\n",
    "                            color='red',\n",
    "                            popup=popup_text2,\n",
    "                            fill=True).add_to(g1)\n",
    "    \n",
    "    \n",
    "    \n",
    "    \n",
    "    \n",
    "folium.LayerControl(collapsed=False).add_to(m)\n",
    "# m.save(os.path.join('results', 'Plugins_8.html'))\n",
    "m\n",
    "\n",
    "\n",
    "# my_map1\n"
   ]
  },
  {
   "cell_type": "code",
   "execution_count": null,
   "metadata": {
    "ExecuteTime": {
     "end_time": "2020-05-19T08:34:07.122116Z",
     "start_time": "2020-05-19T08:33:37.669Z"
    },
    "scrolled": true
   },
   "outputs": [],
   "source": [
    "from folium.plugins import HeatMap\n",
    "\n",
    "\n",
    "my_map2 = folium.Map(location = [42,12], \n",
    "                                        zoom_start = 6 ) \n",
    "coordinates =[]\n",
    "\n",
    "pesi = []\n",
    "#\n",
    "for la,lo in zip(df_clean.LATITUDE,df_clean.LONGITUDE):\n",
    "    coordinates.append([la,lo])\n",
    "\n",
    "for la,lo,peso in zip(df_clean.LATITUDE,df_clean.LONGITUDE,df_clean.T_20/df_clean.POPULATION):\n",
    "    pesi.append([la,lo,peso])\n",
    "\n",
    "popuplist = []\n",
    "    \n",
    "locations = list(zip(df_clean.LATITUDE,df_clean.LONGITUDE))\n",
    "icons = [folium.Icon(icon=\"ambulance\", prefix=\"fa\") for _ in range(len(locations))]\n",
    "for index, row in df_clean.iterrows():\n",
    "    popup_text10 = \"{}<br> Population: {}<br> Total Deaths 2020: {} \\({} \\%\\) <br> Increase 2019-20 : {} \\%\"\n",
    "    popup_text10 = popup_text10.format(row[\"NOME_COMUNE\"],\n",
    "                        row[\"POPULATION\"],\n",
    "                        row[\"T_20\"],\n",
    "                        format(round(perc_deaths,2)),\n",
    "                        format(round(increase,2)))\n",
    "    popuplist.append(popup_text10)\n",
    "\n",
    "\n",
    "\n",
    "for index, row in df_clean.iterrows():\n",
    "    perc_deaths = 100*(row[\"T_20\"]/row[\"POPULATION\"])\n",
    "    if row[\"T_20\"]>0:\n",
    "        increase = 100*((row[\"T_20\"]-row[\"T_19\"])/row[\"T_20\"])\n",
    "        if increase>0 :\n",
    "            radio = row[\"T_20\"]/1000.\n",
    "        else:\n",
    "            radio = 0\n",
    "    else:\n",
    "        increase = 0.00\n",
    "        radio = 0\n",
    "    # generate the popup message that is shown on click.\n",
    "    popup_text = \"{}<br> Population: {}<br> Total Deaths 2020: {} \\({} \\%\\) <br> Increase 2019-20 : {} \\%\"\n",
    "    popup_text = popup_text.format(row[\"NOME_COMUNE\"],\n",
    "                        row[\"POPULATION\"],\n",
    "                        row[\"T_20\"],\n",
    "                        format(round(perc_deaths,2)),\n",
    "                        format(round(increase,2)))           \n",
    "                        \n",
    "        \n",
    "    # radius of circles\n",
    "    #radio = row[\"T_20\"]\n",
    "        \n",
    "    # choose the color of the marker\n",
    "    if perc_deaths>1.:\n",
    "        # color=\"#FFCE00\" # orange\n",
    "        # color=\"#007849\" # green\n",
    "        color=\"#E37222\" # tangerine\n",
    "    else:\n",
    "        # color=\"#0375B4\" # blue\n",
    "        # color=\"#FFCE00\" # yellow            \n",
    "        color=\"#0A8A9F\" # teal\n",
    "        \n",
    "#     # add marker to the map\n",
    "#     folium.CircleMarker(location=(row[\"LATITUDE\"],\n",
    "#                             row[\"LONGITUDE\"]),\n",
    "#                             radius=1,\n",
    "#                             color=\"#0A8A9F\",\n",
    "#                             popup=popup_text,\n",
    "#                             fill=True).add_to(my_map2)\n",
    "    \n",
    "\n",
    "# plugins.MarkerCluster(data, popups=popups).add_to(m)\n",
    "cluster = MarkerCluster(locations=locations, popups=popuplist, icons=icons)\n",
    "my_map2.add_child(cluster)\n",
    "\n",
    "max_amount = float((df_clean['T_20']/df_clean['POPULATION']).max())\n",
    "print(max_amount)\n",
    "# hm_wide = HeatMap( list(zip(df_clean.LONGITUDE, df_clean.LONGITUDE, df_clean.T_20))).add_to(my_map2)#,\n",
    "hm_wide = HeatMap(pesi,\n",
    "                   min_opacity=0.2,\n",
    "                   max_val=max_amount,\n",
    "                   radius=10, blur=5, \n",
    "                   max_zoom=1, \n",
    "                 ).add_to(my_map2)\n",
    "\n",
    "        \n",
    "        \n",
    "#my_map2.add_child(hm_wide)\n",
    "my_map2"
   ]
  }
 ],
 "metadata": {
  "hide_input": false,
  "kernelspec": {
   "display_name": "Python 3",
   "language": "python",
   "name": "python3"
  },
  "language_info": {
   "codemirror_mode": {
    "name": "ipython",
    "version": 3
   },
   "file_extension": ".py",
   "mimetype": "text/x-python",
   "name": "python",
   "nbconvert_exporter": "python",
   "pygments_lexer": "ipython3",
   "version": "3.7.6"
  }
 },
 "nbformat": 4,
 "nbformat_minor": 4
}
